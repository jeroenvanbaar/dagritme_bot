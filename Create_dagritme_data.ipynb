{
 "cells": [
  {
   "cell_type": "code",
   "execution_count": 89,
   "metadata": {},
   "outputs": [],
   "source": [
    "import pandas as pd"
   ]
  },
  {
   "cell_type": "code",
   "execution_count": 133,
   "metadata": {},
   "outputs": [],
   "source": [
    "day = 'fri'\n",
    "activities = {730:'Opstaan, douchen en aankleden',\n",
    "             800:'Ontbijten',\n",
    "             830:'Aan het werk',\n",
    "             1000:'Koffie drinken en even ontspannen',\n",
    "             1030:'Aan het werk',\n",
    "             1200:'Lunchen',\n",
    "             1300:'Aan het werk',\n",
    "             1600:'Pauze',\n",
    "             1630:'Aan het werk',\n",
    "             1800:'Avondeten',\n",
    "             1900:'Afwassen en opruimen',\n",
    "             1930:'Sporten',\n",
    "             2030:'Televisie kijken',\n",
    "             2200:'Naar bed'}"
   ]
  },
  {
   "cell_type": "code",
   "execution_count": 134,
   "metadata": {},
   "outputs": [],
   "source": [
    "dagritme_data = pd.DataFrame(columns = ['time','activity'])\n",
    "for key,val in activities.items():\n",
    "    dagritme_data = dagritme_data.append(pd.DataFrame([[key,val]],columns = ['time','activity']))\n",
    "dagritme_data = dagritme_data.reset_index(drop=True)"
   ]
  },
  {
   "cell_type": "code",
   "execution_count": 136,
   "metadata": {
    "scrolled": true
   },
   "outputs": [
    {
     "data": {
      "text/html": [
       "<div>\n",
       "<style scoped>\n",
       "    .dataframe tbody tr th:only-of-type {\n",
       "        vertical-align: middle;\n",
       "    }\n",
       "\n",
       "    .dataframe tbody tr th {\n",
       "        vertical-align: top;\n",
       "    }\n",
       "\n",
       "    .dataframe thead th {\n",
       "        text-align: right;\n",
       "    }\n",
       "</style>\n",
       "<table border=\"1\" class=\"dataframe\">\n",
       "  <thead>\n",
       "    <tr style=\"text-align: right;\">\n",
       "      <th></th>\n",
       "      <th>time</th>\n",
       "      <th>activity</th>\n",
       "    </tr>\n",
       "  </thead>\n",
       "  <tbody>\n",
       "    <tr>\n",
       "      <th>0</th>\n",
       "      <td>730</td>\n",
       "      <td>Opstaan, douchen en aankleden</td>\n",
       "    </tr>\n",
       "    <tr>\n",
       "      <th>1</th>\n",
       "      <td>800</td>\n",
       "      <td>Ontbijten</td>\n",
       "    </tr>\n",
       "    <tr>\n",
       "      <th>2</th>\n",
       "      <td>830</td>\n",
       "      <td>Aan het werk</td>\n",
       "    </tr>\n",
       "    <tr>\n",
       "      <th>3</th>\n",
       "      <td>1000</td>\n",
       "      <td>Koffie drinken en even ontspannen</td>\n",
       "    </tr>\n",
       "    <tr>\n",
       "      <th>4</th>\n",
       "      <td>1030</td>\n",
       "      <td>Aan het werk</td>\n",
       "    </tr>\n",
       "  </tbody>\n",
       "</table>\n",
       "</div>"
      ],
      "text/plain": [
       "   time                           activity\n",
       "0   730      Opstaan, douchen en aankleden\n",
       "1   800                          Ontbijten\n",
       "2   830                       Aan het werk\n",
       "3  1000  Koffie drinken en even ontspannen\n",
       "4  1030                       Aan het werk"
      ]
     },
     "execution_count": 136,
     "metadata": {},
     "output_type": "execute_result"
    }
   ],
   "source": [
    "dagritme_data.head()"
   ]
  },
  {
   "cell_type": "code",
   "execution_count": 178,
   "metadata": {},
   "outputs": [],
   "source": [
    "filename = 'dagritme_bot_lean/dagritme_data/dagritme_data_%s.csv'%day"
   ]
  },
  {
   "cell_type": "code",
   "execution_count": 179,
   "metadata": {},
   "outputs": [],
   "source": [
    "dagritme_data.to_csv(filename)"
   ]
  },
  {
   "cell_type": "markdown",
   "metadata": {},
   "source": [
    "## Test loading without pandas"
   ]
  },
  {
   "cell_type": "code",
   "execution_count": 191,
   "metadata": {},
   "outputs": [],
   "source": [
    "import csv, time"
   ]
  },
  {
   "cell_type": "code",
   "execution_count": 192,
   "metadata": {},
   "outputs": [],
   "source": [
    "dr = csv.DictReader(filename)"
   ]
  },
  {
   "cell_type": "code",
   "execution_count": 193,
   "metadata": {},
   "outputs": [],
   "source": [
    "activities = []\n",
    "times = []\n",
    "with open(filename, newline='') as csvfile:\n",
    "    reader = csv.DictReader(csvfile)\n",
    "    for row in reader:\n",
    "        times.append(row['time'])\n",
    "        activities.append(row['activity'])"
   ]
  },
  {
   "cell_type": "code",
   "execution_count": 194,
   "metadata": {},
   "outputs": [],
   "source": [
    "hrmin = time.ctime()[11:16].replace(':','')\n",
    "day = time.ctime()[:3].lower()"
   ]
  },
  {
   "cell_type": "code",
   "execution_count": 195,
   "metadata": {},
   "outputs": [
    {
     "data": {
      "text/plain": [
       "[1613, 1543, 1513, 1343, 1313, 1143, 1043, 743, 713, 543, 443, 413, 313, 143]"
      ]
     },
     "execution_count": 195,
     "metadata": {},
     "output_type": "execute_result"
    }
   ],
   "source": [
    "timediffs = [abs(int(i)-int(hrmin)) for i in times]\n",
    "timediffs"
   ]
  },
  {
   "cell_type": "code",
   "execution_count": 196,
   "metadata": {},
   "outputs": [
    {
     "data": {
      "text/plain": [
       "[]"
      ]
     },
     "execution_count": 196,
     "metadata": {},
     "output_type": "execute_result"
    }
   ],
   "source": [
    "act_index = list(filter(lambda x: x<=5, timediffs))\n",
    "act_index"
   ]
  },
  {
   "cell_type": "code",
   "execution_count": 197,
   "metadata": {},
   "outputs": [
    {
     "name": "stdout",
     "output_type": "stream",
     "text": [
      "No tweet made\n"
     ]
    }
   ],
   "source": [
    "if len(act_index)==1:\n",
    "    activity = activities[timediffs.index(match_time_indices[0])]\n",
    "    print('Found activity: %s'%activity)\n",
    "    tweet_text = 'Het is %s:%s, dus ik ga %s. Doe je mee in mijn #dagritme? Stuur me een berichtje of foto van jouw activiteit!'%(\n",
    "        current_hour,current_minute,activity.lower())\n",
    "    print(tweet_text)\n",
    "else:\n",
    "    print('No tweet made')"
   ]
  }
 ],
 "metadata": {
  "kernelspec": {
   "display_name": "Python 3",
   "language": "python",
   "name": "python3"
  },
  "language_info": {
   "codemirror_mode": {
    "name": "ipython",
    "version": 3
   },
   "file_extension": ".py",
   "mimetype": "text/x-python",
   "name": "python",
   "nbconvert_exporter": "python",
   "pygments_lexer": "ipython3",
   "version": "3.7.3"
  }
 },
 "nbformat": 4,
 "nbformat_minor": 2
}
